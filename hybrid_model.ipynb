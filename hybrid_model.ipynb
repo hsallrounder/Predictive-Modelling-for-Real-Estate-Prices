{
 "cells": [
  {
   "cell_type": "code",
   "execution_count": 1,
   "metadata": {},
   "outputs": [],
   "source": [
    "import pandas as pd\n",
    "import numpy as np\n",
    "import pickle\n",
    "from sklearn.model_selection import train_test_split\n",
    "from sklearn.preprocessing import StandardScaler\n",
    "from sklearn.neighbors import KNeighborsRegressor\n",
    "from tensorflow.keras.models import Sequential\n",
    "from tensorflow.keras.layers import Dense, Dropout\n",
    "from tensorflow.keras.callbacks import EarlyStopping"
   ]
  },
  {
   "cell_type": "code",
   "execution_count": 2,
   "metadata": {},
   "outputs": [],
   "source": [
    "data = pd.read_csv('Melbourne_housing_FULL.csv')"
   ]
  },
  {
   "cell_type": "code",
   "execution_count": 3,
   "metadata": {},
   "outputs": [],
   "source": [
    "data = data[data.Price.notna()]"
   ]
  },
  {
   "cell_type": "code",
   "execution_count": 4,
   "metadata": {},
   "outputs": [],
   "source": [
    "data.dropna(subset=['Rooms', 'Distance', 'Bathroom', 'Landsize', 'BuildingArea', 'YearBuilt'], inplace=True)"
   ]
  },
  {
   "cell_type": "code",
   "execution_count": 5,
   "metadata": {},
   "outputs": [],
   "source": [
    "X = data[['Rooms', 'Distance', 'Bathroom', 'Landsize', 'BuildingArea', 'YearBuilt']]\n",
    "y = data['Price']"
   ]
  },
  {
   "cell_type": "code",
   "execution_count": 6,
   "metadata": {},
   "outputs": [],
   "source": [
    "X_train, X_test, y_train, y_test = train_test_split(X, y, test_size=0.2, random_state=42)"
   ]
  },
  {
   "cell_type": "code",
   "execution_count": 7,
   "metadata": {},
   "outputs": [],
   "source": [
    "scaler = StandardScaler()\n",
    "X_train_scaled = scaler.fit_transform(X_train)\n",
    "X_test_scaled = scaler.transform(X_test)"
   ]
  },
  {
   "cell_type": "code",
   "execution_count": 8,
   "metadata": {},
   "outputs": [],
   "source": [
    "with open('scaler.pkl','wb') as files:\n",
    "    pickle.dump(scaler, files)"
   ]
  },
  {
   "cell_type": "code",
   "execution_count": 9,
   "metadata": {},
   "outputs": [
    {
     "data": {
      "text/html": [
       "<style>#sk-container-id-1 {color: black;background-color: white;}#sk-container-id-1 pre{padding: 0;}#sk-container-id-1 div.sk-toggleable {background-color: white;}#sk-container-id-1 label.sk-toggleable__label {cursor: pointer;display: block;width: 100%;margin-bottom: 0;padding: 0.3em;box-sizing: border-box;text-align: center;}#sk-container-id-1 label.sk-toggleable__label-arrow:before {content: \"▸\";float: left;margin-right: 0.25em;color: #696969;}#sk-container-id-1 label.sk-toggleable__label-arrow:hover:before {color: black;}#sk-container-id-1 div.sk-estimator:hover label.sk-toggleable__label-arrow:before {color: black;}#sk-container-id-1 div.sk-toggleable__content {max-height: 0;max-width: 0;overflow: hidden;text-align: left;background-color: #f0f8ff;}#sk-container-id-1 div.sk-toggleable__content pre {margin: 0.2em;color: black;border-radius: 0.25em;background-color: #f0f8ff;}#sk-container-id-1 input.sk-toggleable__control:checked~div.sk-toggleable__content {max-height: 200px;max-width: 100%;overflow: auto;}#sk-container-id-1 input.sk-toggleable__control:checked~label.sk-toggleable__label-arrow:before {content: \"▾\";}#sk-container-id-1 div.sk-estimator input.sk-toggleable__control:checked~label.sk-toggleable__label {background-color: #d4ebff;}#sk-container-id-1 div.sk-label input.sk-toggleable__control:checked~label.sk-toggleable__label {background-color: #d4ebff;}#sk-container-id-1 input.sk-hidden--visually {border: 0;clip: rect(1px 1px 1px 1px);clip: rect(1px, 1px, 1px, 1px);height: 1px;margin: -1px;overflow: hidden;padding: 0;position: absolute;width: 1px;}#sk-container-id-1 div.sk-estimator {font-family: monospace;background-color: #f0f8ff;border: 1px dotted black;border-radius: 0.25em;box-sizing: border-box;margin-bottom: 0.5em;}#sk-container-id-1 div.sk-estimator:hover {background-color: #d4ebff;}#sk-container-id-1 div.sk-parallel-item::after {content: \"\";width: 100%;border-bottom: 1px solid gray;flex-grow: 1;}#sk-container-id-1 div.sk-label:hover label.sk-toggleable__label {background-color: #d4ebff;}#sk-container-id-1 div.sk-serial::before {content: \"\";position: absolute;border-left: 1px solid gray;box-sizing: border-box;top: 0;bottom: 0;left: 50%;z-index: 0;}#sk-container-id-1 div.sk-serial {display: flex;flex-direction: column;align-items: center;background-color: white;padding-right: 0.2em;padding-left: 0.2em;position: relative;}#sk-container-id-1 div.sk-item {position: relative;z-index: 1;}#sk-container-id-1 div.sk-parallel {display: flex;align-items: stretch;justify-content: center;background-color: white;position: relative;}#sk-container-id-1 div.sk-item::before, #sk-container-id-1 div.sk-parallel-item::before {content: \"\";position: absolute;border-left: 1px solid gray;box-sizing: border-box;top: 0;bottom: 0;left: 50%;z-index: -1;}#sk-container-id-1 div.sk-parallel-item {display: flex;flex-direction: column;z-index: 1;position: relative;background-color: white;}#sk-container-id-1 div.sk-parallel-item:first-child::after {align-self: flex-end;width: 50%;}#sk-container-id-1 div.sk-parallel-item:last-child::after {align-self: flex-start;width: 50%;}#sk-container-id-1 div.sk-parallel-item:only-child::after {width: 0;}#sk-container-id-1 div.sk-dashed-wrapped {border: 1px dashed gray;margin: 0 0.4em 0.5em 0.4em;box-sizing: border-box;padding-bottom: 0.4em;background-color: white;}#sk-container-id-1 div.sk-label label {font-family: monospace;font-weight: bold;display: inline-block;line-height: 1.2em;}#sk-container-id-1 div.sk-label-container {text-align: center;}#sk-container-id-1 div.sk-container {/* jupyter's `normalize.less` sets `[hidden] { display: none; }` but bootstrap.min.css set `[hidden] { display: none !important; }` so we also need the `!important` here to be able to override the default hidden behavior on the sphinx rendered scikit-learn.org. See: https://github.com/scikit-learn/scikit-learn/issues/21755 */display: inline-block !important;position: relative;}#sk-container-id-1 div.sk-text-repr-fallback {display: none;}</style><div id=\"sk-container-id-1\" class=\"sk-top-container\"><div class=\"sk-text-repr-fallback\"><pre>KNeighborsRegressor()</pre><b>In a Jupyter environment, please rerun this cell to show the HTML representation or trust the notebook. <br />On GitHub, the HTML representation is unable to render, please try loading this page with nbviewer.org.</b></div><div class=\"sk-container\" hidden><div class=\"sk-item\"><div class=\"sk-estimator sk-toggleable\"><input class=\"sk-toggleable__control sk-hidden--visually\" id=\"sk-estimator-id-1\" type=\"checkbox\" checked><label for=\"sk-estimator-id-1\" class=\"sk-toggleable__label sk-toggleable__label-arrow\">KNeighborsRegressor</label><div class=\"sk-toggleable__content\"><pre>KNeighborsRegressor()</pre></div></div></div></div></div>"
      ],
      "text/plain": [
       "KNeighborsRegressor()"
      ]
     },
     "execution_count": 9,
     "metadata": {},
     "output_type": "execute_result"
    }
   ],
   "source": [
    "knn_model = KNeighborsRegressor(n_neighbors=5)\n",
    "knn_model.fit(X_train_scaled, y_train)"
   ]
  },
  {
   "cell_type": "code",
   "execution_count": 10,
   "metadata": {},
   "outputs": [],
   "source": [
    "with open('knn_model.pkl','wb') as files:\n",
    "    pickle.dump(knn_model, files)"
   ]
  },
  {
   "cell_type": "code",
   "execution_count": 11,
   "metadata": {},
   "outputs": [],
   "source": [
    "nn_train = knn_model.predict(X_train_scaled).reshape(-1, 1)\n",
    "nn_test = knn_model.predict(X_test_scaled).reshape(-1, 1)"
   ]
  },
  {
   "cell_type": "code",
   "execution_count": 12,
   "metadata": {},
   "outputs": [],
   "source": [
    "nn_model = Sequential()\n",
    "nn_model.add(Dense(64, input_dim=1, activation='relu'))\n",
    "nn_model.add(Dense(32, activation='relu'))\n",
    "nn_model.add(Dense(16, activation='relu'))\n",
    "nn_model.add(Dense(8, activation='relu'))\n",
    "nn_model.add(Dense(1, activation='linear'))"
   ]
  },
  {
   "cell_type": "code",
   "execution_count": 13,
   "metadata": {},
   "outputs": [],
   "source": [
    "nn_model.compile(loss='mean_squared_error', optimizer='adam', metrics=['mse'])"
   ]
  },
  {
   "cell_type": "code",
   "execution_count": 14,
   "metadata": {},
   "outputs": [
    {
     "name": "stdout",
     "output_type": "stream",
     "text": [
      "Epoch 1/100\n",
      "226/226 - 1s - loss: 437375696896.0000 - mse: 437375696896.0000 - val_loss: 191721537536.0000 - val_mse: 191721537536.0000 - 1s/epoch - 5ms/step\n",
      "Epoch 2/100\n",
      "226/226 - 0s - loss: 110906613760.0000 - mse: 110906613760.0000 - val_loss: 192581320704.0000 - val_mse: 192581320704.0000 - 266ms/epoch - 1ms/step\n",
      "Epoch 3/100\n",
      "226/226 - 0s - loss: 111506341888.0000 - mse: 111506341888.0000 - val_loss: 193039253504.0000 - val_mse: 193039253504.0000 - 262ms/epoch - 1ms/step\n",
      "Epoch 4/100\n",
      "226/226 - 0s - loss: 111085297664.0000 - mse: 111085297664.0000 - val_loss: 192364560384.0000 - val_mse: 192364560384.0000 - 261ms/epoch - 1ms/step\n",
      "Epoch 5/100\n",
      "226/226 - 0s - loss: 112288833536.0000 - mse: 112288833536.0000 - val_loss: 192245301248.0000 - val_mse: 192245301248.0000 - 263ms/epoch - 1ms/step\n",
      "Epoch 6/100\n",
      "226/226 - 0s - loss: 111456182272.0000 - mse: 111456182272.0000 - val_loss: 191845777408.0000 - val_mse: 191845777408.0000 - 264ms/epoch - 1ms/step\n",
      "Epoch 7/100\n",
      "226/226 - 0s - loss: 111444172800.0000 - mse: 111444172800.0000 - val_loss: 192667729920.0000 - val_mse: 192667729920.0000 - 264ms/epoch - 1ms/step\n",
      "Epoch 8/100\n",
      "226/226 - 0s - loss: 111370313728.0000 - mse: 111370313728.0000 - val_loss: 195649961984.0000 - val_mse: 195649961984.0000 - 264ms/epoch - 1ms/step\n",
      "Epoch 9/100\n",
      "226/226 - 0s - loss: 111481315328.0000 - mse: 111481315328.0000 - val_loss: 194932080640.0000 - val_mse: 194932080640.0000 - 261ms/epoch - 1ms/step\n",
      "Epoch 10/100\n",
      "226/226 - 0s - loss: 110844485632.0000 - mse: 110844485632.0000 - val_loss: 191717933056.0000 - val_mse: 191717933056.0000 - 262ms/epoch - 1ms/step\n",
      "Epoch 11/100\n",
      "226/226 - 0s - loss: 110533304320.0000 - mse: 110533304320.0000 - val_loss: 191803506688.0000 - val_mse: 191803506688.0000 - 264ms/epoch - 1ms/step\n",
      "Epoch 12/100\n",
      "226/226 - 0s - loss: 111013560320.0000 - mse: 111013560320.0000 - val_loss: 191738757120.0000 - val_mse: 191738757120.0000 - 264ms/epoch - 1ms/step\n",
      "Epoch 13/100\n",
      "226/226 - 0s - loss: 110913626112.0000 - mse: 110913626112.0000 - val_loss: 192562102272.0000 - val_mse: 192562102272.0000 - 275ms/epoch - 1ms/step\n",
      "Epoch 14/100\n",
      "226/226 - 0s - loss: 110765924352.0000 - mse: 110765924352.0000 - val_loss: 192025362432.0000 - val_mse: 192025362432.0000 - 259ms/epoch - 1ms/step\n",
      "Epoch 15/100\n",
      "226/226 - 0s - loss: 112199745536.0000 - mse: 112199745536.0000 - val_loss: 193661091840.0000 - val_mse: 193661091840.0000 - 260ms/epoch - 1ms/step\n",
      "Epoch 16/100\n",
      "226/226 - 0s - loss: 111930449920.0000 - mse: 111930449920.0000 - val_loss: 191724584960.0000 - val_mse: 191724584960.0000 - 266ms/epoch - 1ms/step\n",
      "Epoch 17/100\n",
      "226/226 - 0s - loss: 111254192128.0000 - mse: 111254192128.0000 - val_loss: 192588414976.0000 - val_mse: 192588414976.0000 - 269ms/epoch - 1ms/step\n",
      "Epoch 18/100\n",
      "226/226 - 0s - loss: 110871519232.0000 - mse: 110871519232.0000 - val_loss: 194430713856.0000 - val_mse: 194430713856.0000 - 261ms/epoch - 1ms/step\n",
      "Epoch 19/100\n",
      "226/226 - 0s - loss: 111364235264.0000 - mse: 111364235264.0000 - val_loss: 191987531776.0000 - val_mse: 191987531776.0000 - 262ms/epoch - 1ms/step\n",
      "Epoch 20/100\n",
      "226/226 - 0s - loss: 111307096064.0000 - mse: 111307096064.0000 - val_loss: 191842500608.0000 - val_mse: 191842500608.0000 - 268ms/epoch - 1ms/step\n",
      "Epoch 21/100\n",
      "226/226 - 0s - loss: 111220113408.0000 - mse: 111220113408.0000 - val_loss: 191726108672.0000 - val_mse: 191726108672.0000 - 265ms/epoch - 1ms/step\n",
      "Epoch 22/100\n",
      "226/226 - 0s - loss: 111140126720.0000 - mse: 111140126720.0000 - val_loss: 194499149824.0000 - val_mse: 194499149824.0000 - 255ms/epoch - 1ms/step\n",
      "Epoch 23/100\n",
      "226/226 - 0s - loss: 111363227648.0000 - mse: 111363227648.0000 - val_loss: 191895322624.0000 - val_mse: 191895322624.0000 - 269ms/epoch - 1ms/step\n",
      "Epoch 24/100\n",
      "226/226 - 0s - loss: 110631755776.0000 - mse: 110631755776.0000 - val_loss: 192088817664.0000 - val_mse: 192088817664.0000 - 268ms/epoch - 1ms/step\n",
      "Epoch 25/100\n",
      "226/226 - 0s - loss: 111622193152.0000 - mse: 111622193152.0000 - val_loss: 201021702144.0000 - val_mse: 201021702144.0000 - 271ms/epoch - 1ms/step\n",
      "Epoch 26/100\n",
      "226/226 - 0s - loss: 110894014464.0000 - mse: 110894014464.0000 - val_loss: 192493600768.0000 - val_mse: 192493600768.0000 - 272ms/epoch - 1ms/step\n",
      "Epoch 27/100\n",
      "226/226 - 0s - loss: 111987261440.0000 - mse: 111987261440.0000 - val_loss: 195183869952.0000 - val_mse: 195183869952.0000 - 266ms/epoch - 1ms/step\n",
      "Epoch 28/100\n",
      "226/226 - 0s - loss: 111595651072.0000 - mse: 111595651072.0000 - val_loss: 192675430400.0000 - val_mse: 192675430400.0000 - 266ms/epoch - 1ms/step\n",
      "Epoch 29/100\n",
      "226/226 - 0s - loss: 111821119488.0000 - mse: 111821119488.0000 - val_loss: 193996996608.0000 - val_mse: 193996996608.0000 - 304ms/epoch - 1ms/step\n",
      "Epoch 30/100\n",
      "226/226 - 0s - loss: 111556599808.0000 - mse: 111556599808.0000 - val_loss: 195622518784.0000 - val_mse: 195622518784.0000 - 272ms/epoch - 1ms/step\n",
      "Epoch 31/100\n",
      "226/226 - 0s - loss: 111204376576.0000 - mse: 111204376576.0000 - val_loss: 192126009344.0000 - val_mse: 192126009344.0000 - 268ms/epoch - 1ms/step\n",
      "Epoch 32/100\n",
      "226/226 - 0s - loss: 111021989888.0000 - mse: 111021989888.0000 - val_loss: 193359020032.0000 - val_mse: 193359020032.0000 - 265ms/epoch - 1ms/step\n",
      "Epoch 33/100\n",
      "226/226 - 0s - loss: 111244763136.0000 - mse: 111244763136.0000 - val_loss: 191822381056.0000 - val_mse: 191822381056.0000 - 268ms/epoch - 1ms/step\n",
      "Epoch 34/100\n",
      "226/226 - 0s - loss: 111950544896.0000 - mse: 111950544896.0000 - val_loss: 194539290624.0000 - val_mse: 194539290624.0000 - 272ms/epoch - 1ms/step\n",
      "Epoch 35/100\n",
      "226/226 - 0s - loss: 111376834560.0000 - mse: 111376834560.0000 - val_loss: 191813189632.0000 - val_mse: 191813189632.0000 - 269ms/epoch - 1ms/step\n",
      "Epoch 36/100\n",
      "226/226 - 0s - loss: 111069536256.0000 - mse: 111069536256.0000 - val_loss: 191725600768.0000 - val_mse: 191725600768.0000 - 260ms/epoch - 1ms/step\n",
      "Epoch 37/100\n",
      "226/226 - 0s - loss: 111587803136.0000 - mse: 111587803136.0000 - val_loss: 193547124736.0000 - val_mse: 193547124736.0000 - 264ms/epoch - 1ms/step\n",
      "Epoch 38/100\n",
      "226/226 - 0s - loss: 111283109888.0000 - mse: 111283109888.0000 - val_loss: 191786647552.0000 - val_mse: 191786647552.0000 - 267ms/epoch - 1ms/step\n",
      "Epoch 39/100\n",
      "226/226 - 0s - loss: 111856476160.0000 - mse: 111856476160.0000 - val_loss: 194623045632.0000 - val_mse: 194623045632.0000 - 282ms/epoch - 1ms/step\n",
      "Epoch 40/100\n",
      "226/226 - 0s - loss: 111237324800.0000 - mse: 111237324800.0000 - val_loss: 191744720896.0000 - val_mse: 191744720896.0000 - 262ms/epoch - 1ms/step\n",
      "Epoch 41/100\n",
      "226/226 - 0s - loss: 110613790720.0000 - mse: 110613790720.0000 - val_loss: 192040370176.0000 - val_mse: 192040370176.0000 - 270ms/epoch - 1ms/step\n",
      "Epoch 42/100\n",
      "226/226 - 0s - loss: 112021233664.0000 - mse: 112021233664.0000 - val_loss: 199920205824.0000 - val_mse: 199920205824.0000 - 268ms/epoch - 1ms/step\n",
      "Epoch 43/100\n",
      "226/226 - 0s - loss: 111383674880.0000 - mse: 111383674880.0000 - val_loss: 191719178240.0000 - val_mse: 191719178240.0000 - 271ms/epoch - 1ms/step\n",
      "Epoch 44/100\n",
      "226/226 - 0s - loss: 111529893888.0000 - mse: 111529893888.0000 - val_loss: 191866011648.0000 - val_mse: 191866011648.0000 - 279ms/epoch - 1ms/step\n",
      "Epoch 45/100\n",
      "226/226 - 0s - loss: 110959656960.0000 - mse: 110959656960.0000 - val_loss: 194313142272.0000 - val_mse: 194313142272.0000 - 272ms/epoch - 1ms/step\n",
      "Epoch 46/100\n",
      "226/226 - 0s - loss: 112204128256.0000 - mse: 112204128256.0000 - val_loss: 192576667648.0000 - val_mse: 192576667648.0000 - 263ms/epoch - 1ms/step\n",
      "Epoch 47/100\n",
      "226/226 - 0s - loss: 111318188032.0000 - mse: 111318188032.0000 - val_loss: 192752074752.0000 - val_mse: 192752074752.0000 - 268ms/epoch - 1ms/step\n",
      "Epoch 48/100\n",
      "226/226 - 0s - loss: 110924824576.0000 - mse: 110924824576.0000 - val_loss: 192498843648.0000 - val_mse: 192498843648.0000 - 332ms/epoch - 1ms/step\n",
      "Epoch 49/100\n",
      "226/226 - 0s - loss: 111991676928.0000 - mse: 111991676928.0000 - val_loss: 194172649472.0000 - val_mse: 194172649472.0000 - 310ms/epoch - 1ms/step\n",
      "Epoch 50/100\n",
      "226/226 - 0s - loss: 111885221888.0000 - mse: 111885221888.0000 - val_loss: 191719129088.0000 - val_mse: 191719129088.0000 - 363ms/epoch - 2ms/step\n",
      "Epoch 51/100\n",
      "226/226 - 0s - loss: 111518801920.0000 - mse: 111518801920.0000 - val_loss: 193136984064.0000 - val_mse: 193136984064.0000 - 336ms/epoch - 1ms/step\n",
      "Epoch 52/100\n",
      "226/226 - 0s - loss: 111864545280.0000 - mse: 111864545280.0000 - val_loss: 192543670272.0000 - val_mse: 192543670272.0000 - 315ms/epoch - 1ms/step\n",
      "Epoch 53/100\n",
      "226/226 - 0s - loss: 111772221440.0000 - mse: 111772221440.0000 - val_loss: 193744830464.0000 - val_mse: 193744830464.0000 - 284ms/epoch - 1ms/step\n",
      "Epoch 54/100\n",
      "226/226 - 0s - loss: 111426895872.0000 - mse: 111426895872.0000 - val_loss: 194437513216.0000 - val_mse: 194437513216.0000 - 308ms/epoch - 1ms/step\n",
      "Epoch 55/100\n",
      "226/226 - 0s - loss: 111084249088.0000 - mse: 111084249088.0000 - val_loss: 192848543744.0000 - val_mse: 192848543744.0000 - 307ms/epoch - 1ms/step\n",
      "Epoch 56/100\n",
      "226/226 - 0s - loss: 110769430528.0000 - mse: 110769430528.0000 - val_loss: 192333709312.0000 - val_mse: 192333709312.0000 - 281ms/epoch - 1ms/step\n",
      "Epoch 57/100\n",
      "226/226 - 0s - loss: 110726316032.0000 - mse: 110726316032.0000 - val_loss: 191763136512.0000 - val_mse: 191763136512.0000 - 305ms/epoch - 1ms/step\n",
      "Epoch 58/100\n",
      "226/226 - 0s - loss: 110843019264.0000 - mse: 110843019264.0000 - val_loss: 191718211584.0000 - val_mse: 191718211584.0000 - 283ms/epoch - 1ms/step\n",
      "Epoch 59/100\n",
      "226/226 - 0s - loss: 111566766080.0000 - mse: 111566766080.0000 - val_loss: 192287670272.0000 - val_mse: 192287670272.0000 - 274ms/epoch - 1ms/step\n",
      "Epoch 60/100\n",
      "226/226 - 0s - loss: 111421833216.0000 - mse: 111421833216.0000 - val_loss: 192428064768.0000 - val_mse: 192428064768.0000 - 269ms/epoch - 1ms/step\n",
      "Epoch 61/100\n",
      "226/226 - 0s - loss: 112578174976.0000 - mse: 112578174976.0000 - val_loss: 197609160704.0000 - val_mse: 197609160704.0000 - 269ms/epoch - 1ms/step\n",
      "Epoch 62/100\n",
      "226/226 - 0s - loss: 111091720192.0000 - mse: 111091720192.0000 - val_loss: 192420855808.0000 - val_mse: 192420855808.0000 - 268ms/epoch - 1ms/step\n",
      "Epoch 63/100\n",
      "226/226 - 0s - loss: 111402016768.0000 - mse: 111402016768.0000 - val_loss: 191736299520.0000 - val_mse: 191736299520.0000 - 266ms/epoch - 1ms/step\n",
      "Epoch 64/100\n",
      "226/226 - 0s - loss: 111234957312.0000 - mse: 111234957312.0000 - val_loss: 200653258752.0000 - val_mse: 200653258752.0000 - 264ms/epoch - 1ms/step\n",
      "Epoch 65/100\n",
      "226/226 - 0s - loss: 111007072256.0000 - mse: 111007072256.0000 - val_loss: 194407268352.0000 - val_mse: 194407268352.0000 - 266ms/epoch - 1ms/step\n",
      "Epoch 66/100\n",
      "226/226 - 0s - loss: 111174156288.0000 - mse: 111174156288.0000 - val_loss: 194970304512.0000 - val_mse: 194970304512.0000 - 266ms/epoch - 1ms/step\n",
      "Epoch 67/100\n",
      "226/226 - 0s - loss: 111271698432.0000 - mse: 111271698432.0000 - val_loss: 191746621440.0000 - val_mse: 191746621440.0000 - 268ms/epoch - 1ms/step\n",
      "Epoch 68/100\n",
      "226/226 - 0s - loss: 110677516288.0000 - mse: 110677516288.0000 - val_loss: 192276021248.0000 - val_mse: 192276021248.0000 - 266ms/epoch - 1ms/step\n",
      "Epoch 69/100\n",
      "226/226 - 0s - loss: 111927574528.0000 - mse: 111927574528.0000 - val_loss: 192052297728.0000 - val_mse: 192052297728.0000 - 269ms/epoch - 1ms/step\n",
      "Epoch 70/100\n",
      "226/226 - 0s - loss: 111836217344.0000 - mse: 111836217344.0000 - val_loss: 199807270912.0000 - val_mse: 199807270912.0000 - 267ms/epoch - 1ms/step\n",
      "Epoch 71/100\n",
      "226/226 - 0s - loss: 111349940224.0000 - mse: 111349940224.0000 - val_loss: 199212908544.0000 - val_mse: 199212908544.0000 - 267ms/epoch - 1ms/step\n",
      "Epoch 72/100\n",
      "226/226 - 0s - loss: 111055257600.0000 - mse: 111055257600.0000 - val_loss: 191922388992.0000 - val_mse: 191922388992.0000 - 266ms/epoch - 1ms/step\n",
      "Epoch 73/100\n",
      "226/226 - 0s - loss: 111721291776.0000 - mse: 111721291776.0000 - val_loss: 191723044864.0000 - val_mse: 191723044864.0000 - 265ms/epoch - 1ms/step\n",
      "Epoch 74/100\n",
      "226/226 - 0s - loss: 111225102336.0000 - mse: 111225102336.0000 - val_loss: 199220379648.0000 - val_mse: 199220379648.0000 - 292ms/epoch - 1ms/step\n",
      "Epoch 75/100\n",
      "226/226 - 0s - loss: 112017915904.0000 - mse: 112017915904.0000 - val_loss: 194504032256.0000 - val_mse: 194504032256.0000 - 308ms/epoch - 1ms/step\n",
      "Epoch 76/100\n",
      "226/226 - 0s - loss: 111542501376.0000 - mse: 111542501376.0000 - val_loss: 198246055936.0000 - val_mse: 198246055936.0000 - 356ms/epoch - 2ms/step\n",
      "Epoch 77/100\n",
      "226/226 - 0s - loss: 111425953792.0000 - mse: 111425953792.0000 - val_loss: 193411317760.0000 - val_mse: 193411317760.0000 - 321ms/epoch - 1ms/step\n",
      "Epoch 78/100\n",
      "226/226 - 0s - loss: 110887256064.0000 - mse: 110887256064.0000 - val_loss: 191786024960.0000 - val_mse: 191786024960.0000 - 281ms/epoch - 1ms/step\n",
      "Epoch 79/100\n",
      "226/226 - 0s - loss: 111251202048.0000 - mse: 111251202048.0000 - val_loss: 194173648896.0000 - val_mse: 194173648896.0000 - 278ms/epoch - 1ms/step\n",
      "Epoch 80/100\n",
      "226/226 - 0s - loss: 110937440256.0000 - mse: 110937440256.0000 - val_loss: 191869943808.0000 - val_mse: 191869943808.0000 - 291ms/epoch - 1ms/step\n",
      "Epoch 81/100\n",
      "226/226 - 0s - loss: 110621343744.0000 - mse: 110621343744.0000 - val_loss: 197497864192.0000 - val_mse: 197497864192.0000 - 272ms/epoch - 1ms/step\n",
      "Epoch 82/100\n",
      "226/226 - 0s - loss: 111809806336.0000 - mse: 111809806336.0000 - val_loss: 191813910528.0000 - val_mse: 191813910528.0000 - 297ms/epoch - 1ms/step\n",
      "Epoch 83/100\n",
      "226/226 - 0s - loss: 111258935296.0000 - mse: 111258935296.0000 - val_loss: 194786623488.0000 - val_mse: 194786623488.0000 - 304ms/epoch - 1ms/step\n",
      "Epoch 84/100\n",
      "226/226 - 0s - loss: 113201037312.0000 - mse: 113201037312.0000 - val_loss: 191810551808.0000 - val_mse: 191810551808.0000 - 309ms/epoch - 1ms/step\n",
      "Epoch 85/100\n",
      "226/226 - 0s - loss: 111026135040.0000 - mse: 111026135040.0000 - val_loss: 191759220736.0000 - val_mse: 191759220736.0000 - 279ms/epoch - 1ms/step\n",
      "Epoch 86/100\n",
      "226/226 - 0s - loss: 110885404672.0000 - mse: 110885404672.0000 - val_loss: 191806504960.0000 - val_mse: 191806504960.0000 - 277ms/epoch - 1ms/step\n",
      "Epoch 87/100\n",
      "226/226 - 0s - loss: 111211823104.0000 - mse: 111211823104.0000 - val_loss: 191760400384.0000 - val_mse: 191760400384.0000 - 272ms/epoch - 1ms/step\n",
      "Epoch 88/100\n",
      "226/226 - 0s - loss: 110936432640.0000 - mse: 110936432640.0000 - val_loss: 191844696064.0000 - val_mse: 191844696064.0000 - 270ms/epoch - 1ms/step\n",
      "Epoch 89/100\n",
      "226/226 - 0s - loss: 111089688576.0000 - mse: 111089688576.0000 - val_loss: 191784353792.0000 - val_mse: 191784353792.0000 - 272ms/epoch - 1ms/step\n",
      "Epoch 90/100\n",
      "226/226 - 0s - loss: 111437250560.0000 - mse: 111437250560.0000 - val_loss: 192876511232.0000 - val_mse: 192876511232.0000 - 274ms/epoch - 1ms/step\n",
      "Epoch 91/100\n",
      "226/226 - 0s - loss: 110857658368.0000 - mse: 110857658368.0000 - val_loss: 192413827072.0000 - val_mse: 192413827072.0000 - 279ms/epoch - 1ms/step\n",
      "Epoch 92/100\n",
      "226/226 - 0s - loss: 111936299008.0000 - mse: 111936299008.0000 - val_loss: 192588349440.0000 - val_mse: 192588349440.0000 - 274ms/epoch - 1ms/step\n",
      "Epoch 93/100\n",
      "226/226 - 0s - loss: 111015936000.0000 - mse: 111015936000.0000 - val_loss: 193190969344.0000 - val_mse: 193190969344.0000 - 274ms/epoch - 1ms/step\n",
      "Epoch 94/100\n",
      "226/226 - 0s - loss: 112591806464.0000 - mse: 112591806464.0000 - val_loss: 194387755008.0000 - val_mse: 194387755008.0000 - 284ms/epoch - 1ms/step\n",
      "Epoch 95/100\n",
      "226/226 - 0s - loss: 112087121920.0000 - mse: 112087121920.0000 - val_loss: 194695479296.0000 - val_mse: 194695479296.0000 - 290ms/epoch - 1ms/step\n",
      "Epoch 96/100\n",
      "226/226 - 0s - loss: 111335473152.0000 - mse: 111335473152.0000 - val_loss: 199703035904.0000 - val_mse: 199703035904.0000 - 270ms/epoch - 1ms/step\n",
      "Epoch 97/100\n",
      "226/226 - 0s - loss: 111394668544.0000 - mse: 111394668544.0000 - val_loss: 201005023232.0000 - val_mse: 201005023232.0000 - 271ms/epoch - 1ms/step\n",
      "Epoch 98/100\n",
      "226/226 - 0s - loss: 111623217152.0000 - mse: 111623217152.0000 - val_loss: 197552078848.0000 - val_mse: 197552078848.0000 - 272ms/epoch - 1ms/step\n",
      "Epoch 99/100\n",
      "226/226 - 0s - loss: 110952488960.0000 - mse: 110952488960.0000 - val_loss: 195574562816.0000 - val_mse: 195574562816.0000 - 272ms/epoch - 1ms/step\n",
      "Epoch 100/100\n",
      "226/226 - 0s - loss: 111399673856.0000 - mse: 111399673856.0000 - val_loss: 196462329856.0000 - val_mse: 196462329856.0000 - 294ms/epoch - 1ms/step\n"
     ]
    },
    {
     "data": {
      "text/plain": [
       "<keras.callbacks.History at 0x22c244f1110>"
      ]
     },
     "execution_count": 14,
     "metadata": {},
     "output_type": "execute_result"
    }
   ],
   "source": [
    "nn_model.fit(nn_train, y_train, validation_data=(nn_test,y_test), epochs=100, batch_size=32, verbose=2)"
   ]
  },
  {
   "cell_type": "code",
   "execution_count": 17,
   "metadata": {},
   "outputs": [
    {
     "name": "stdout",
     "output_type": "stream",
     "text": [
      "1/1 [==============================] - 0s 18ms/step\n",
      "[[ 889954. ]\n",
      " [ 987644.1]\n",
      " [1063918.5]]\n"
     ]
    }
   ],
   "source": [
    "new_data = pd.DataFrame({\"Rooms\": [2, 3, 4], \"Distance\": [5, 10, 15], \"Bathroom\": [1, 2, 3], \"Landsize\": [300, 400, 500], \"BuildingArea\": [100, 150, 200], \"YearBuilt\": [2000, 2010, 2020]})\n",
    "scaled = scaler.transform(new_data)\n",
    "knn_prediction = knn_model.predict(scaled).reshape(-1, 1)\n",
    "nn_prediction = nn_model.predict(knn_prediction)\n",
    "print(nn_prediction)"
   ]
  },
  {
   "cell_type": "code",
   "execution_count": 16,
   "metadata": {},
   "outputs": [],
   "source": [
    "with open('nn_model.pkl','wb') as files:\n",
    "    pickle.dump(nn_model, files)"
   ]
  }
 ],
 "metadata": {
  "kernelspec": {
   "display_name": "venv",
   "language": "python",
   "name": "python3"
  },
  "language_info": {
   "codemirror_mode": {
    "name": "ipython",
    "version": 3
   },
   "file_extension": ".py",
   "mimetype": "text/x-python",
   "name": "python",
   "nbconvert_exporter": "python",
   "pygments_lexer": "ipython3",
   "version": "3.11.2"
  },
  "orig_nbformat": 4
 },
 "nbformat": 4,
 "nbformat_minor": 2
}
